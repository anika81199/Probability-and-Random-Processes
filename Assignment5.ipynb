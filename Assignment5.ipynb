{
  "nbformat": 4,
  "nbformat_minor": 0,
  "metadata": {
    "colab": {
      "provenance": []
    },
    "kernelspec": {
      "name": "python3",
      "display_name": "Python 3"
    },
    "language_info": {
      "name": "python"
    }
  },
  "cells": [
    {
      "cell_type": "markdown",
      "source": [
        "Question 1\n"
      ],
      "metadata": {
        "id": "yn3-VfPz2P3_"
      }
    },
    {
      "cell_type": "code",
      "execution_count": null,
      "metadata": {
        "id": "xkP-Hp_z2Oy2",
        "colab": {
          "base_uri": "https://localhost:8080/"
        },
        "outputId": "4cd863d5-c0b9-4a65-98f9-bab1ddd9f21a"
      },
      "outputs": [
        {
          "output_type": "stream",
          "name": "stdout",
          "text": [
            "[['3' '0']\n",
            " ['v' 'u']]\n"
          ]
        }
      ],
      "source": [
        "from sympy import *\n",
        "import numpy as np\n",
        "\n",
        "u,v= symbols('u v')\n",
        "x=3*u\n",
        "y=u*v\n",
        "dx_du=Derivative(x,u)\n",
        "d1=format(dx_du.doit())\n",
        "\n",
        "dx_dv=Derivative(x,v)\n",
        "d2=format(dx_dv.doit())\n",
        "\n",
        "dy_du=Derivative(y,u)\n",
        "d3=format(dy_du.doit())\n",
        "\n",
        "dy_dv=Derivative(y,v)\n",
        "d4=format(dy_dv.doit())\n",
        "\n",
        "J=np.array([[d1,d2],[d3,d4]])\n",
        "print(J)\n",
        "\n",
        "\n"
      ]
    },
    {
      "cell_type": "markdown",
      "source": [
        "Question 2"
      ],
      "metadata": {
        "id": "gXVxTU6jqx9T"
      }
    },
    {
      "cell_type": "code",
      "source": [
        "from sympy import *\n",
        "import numpy as np\n",
        "import random\n",
        "\n",
        "# lamda=random.randint(0,9)\n",
        "# X=np.exp(lamda)\n",
        "# Y=np.exp(lamda)\n",
        "X,Y=symbols('X Y')\n",
        "W=X-Y\n",
        "Z=X*X+X-Y\n",
        "\n",
        "dW_dX=Derivative(W,X)\n",
        "d1=format(dW_dX.doit())\n",
        "\n",
        "dW_dY=Derivative(W,Y)\n",
        "d2=format(dW_dY.doit())\n",
        "\n",
        "dZ_dX=Derivative(Z,X)\n",
        "d3=format(dZ_dX.doit())\n",
        "\n",
        "dZ_dY=Derivative(Z,Y)\n",
        "d4=format(dZ_dY.doit())\n",
        "\n",
        "J=np.array([[d1,d2],[d3,d4]])\n",
        "print(J)\n"
      ],
      "metadata": {
        "colab": {
          "base_uri": "https://localhost:8080/"
        },
        "id": "6LMJ9128q0A8",
        "outputId": "3d0f471a-ad12-49a5-c572-8bd959e4dc84"
      },
      "execution_count": null,
      "outputs": [
        {
          "output_type": "stream",
          "name": "stdout",
          "text": [
            "[['1' '-1']\n",
            " ['2*X + 1' '-1']]\n"
          ]
        }
      ]
    }
  ]
}