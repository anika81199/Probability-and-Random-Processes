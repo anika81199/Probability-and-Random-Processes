{
  "nbformat": 4,
  "nbformat_minor": 0,
  "metadata": {
    "colab": {
      "provenance": []
    },
    "kernelspec": {
      "name": "python3",
      "display_name": "Python 3"
    },
    "language_info": {
      "name": "python"
    }
  },
  "cells": [
    {
      "cell_type": "markdown",
      "source": [
        "**Q.1.** Suppose that X, Y , and Z are independent random variables that are\n",
        "each equally likely to be either 1 or 2. Find the probability mass function of-\n",
        "\n",
        "(a) XYZ"
      ],
      "metadata": {
        "id": "sORm2VJ2q0kN"
      }
    },
    {
      "cell_type": "code",
      "execution_count": null,
      "metadata": {
        "colab": {
          "base_uri": "https://localhost:8080/",
          "height": 558
        },
        "id": "J-AvG4EuqyZv",
        "outputId": "6e2d7d2e-c6b9-4b3c-918d-3c8216928e2c"
      },
      "outputs": [
        {
          "output_type": "stream",
          "name": "stdout",
          "text": [
            "P( X =1)= 0.511\n",
            "P( X =2)= 0.49 \n",
            "\n",
            "P( Y =1)= 0.496\n",
            "P( Y =2)= 0.505 \n",
            "\n",
            "P( Z =1)= 0.47\n",
            "P( Z =2)= 0.531 \n",
            "\n",
            "---PMF of XYZ---\n",
            "[1, 2, 4, 8]\n",
            "[0.122, 0.387, 0.371, 0.12]\n"
          ]
        },
        {
          "output_type": "stream",
          "name": "stderr",
          "text": [
            "/usr/local/lib/python3.7/dist-packages/ipykernel_launcher.py:44: UserWarning: In Matplotlib 3.3 individual lines on a stem plot will be added as a LineCollection instead of individual lines. This significantly improves the performance of a stem plot. To remove this warning and switch to the new behaviour, set the \"use_line_collection\" keyword argument to True.\n",
            "/usr/local/lib/python3.7/dist-packages/ipykernel_launcher.py:49: UserWarning: In Matplotlib 3.3 individual lines on a stem plot will be added as a LineCollection instead of individual lines. This significantly improves the performance of a stem plot. To remove this warning and switch to the new behaviour, set the \"use_line_collection\" keyword argument to True.\n"
          ]
        },
        {
          "output_type": "display_data",
          "data": {
            "text/plain": [
              "<Figure size 432x288 with 1 Axes>"
            ],
            "image/png": "[encoded data removed]"
          },
          "metadata": {
            "needs_background": "light"
          }
        }
      ],
      "source": [
        "import matplotlib.pyplot as plt\n",
        "import numpy as np\n",
        "import random\n",
        "import math\n",
        "\n",
        "x=[1,2]\n",
        "random_variable= ['X','Y','Z']\n",
        "\n",
        "for rv in random_variable:\n",
        "  count_of_1=0\n",
        "  count_of_2=0\n",
        "  for i in range(1001):\n",
        "    r=random.choice(x)\n",
        "    if(r==1):\n",
        "      count_of_1 +=1\n",
        "    else:\n",
        "      count_of_2 +=1\n",
        "\n",
        "  for RV in random_variable:\n",
        "    if(RV==rv):\n",
        "      print(\"P(\",str(RV),\"=1)=\",(count_of_1)/1000)\n",
        "      print(\"P(\",str(RV),\"=2)=\",(count_of_2)/1000,'\\n')\n",
        "\n",
        "# PMF of XYZ (Simulation)\n",
        "\n",
        "print(\"---PMF of XYZ---\")\n",
        "X=np.random.randint(1,3,1000)\n",
        "Y=np.random.randint(1,3,1000)\n",
        "Z=np.random.randint(1,3,1000)\n",
        "XYZ=[]\n",
        "for i in range(1000):\n",
        "  val=X[i]*Y[i]*Z[i]\n",
        "  XYZ.append(val)\n",
        "temp= sorted(set(XYZ))\n",
        "print(temp)\n",
        "pmf=[]\n",
        "for i in temp:\n",
        "  count=0\n",
        "  for j in XYZ:\n",
        "    if(i==j):\n",
        "      count+=1\n",
        "  pmf.append(count/len(XYZ))\n",
        "print(pmf)\n",
        "plt.stem(temp,pmf,label='Simulated pmf',markerfmt = 'ob')\n",
        "\n",
        "#Analytical implementation\n",
        "x=[1,2,4,8]\n",
        "y=[1/8,3/8,3/8,1/8]\n",
        "plt.stem(x,y,label='Analytical pmf', markerfmt = '^r')\n",
        "plt.title(\"PMF of X^2+YZ\")\n",
        "plt.xlabel(\"XYZ\")\n",
        "plt.ylabel(\"PMF\")\n",
        "plt.legend();\n",
        "\n",
        "# mean square error\n",
        "# error=[]\n",
        "# for j in range(4):\n",
        "#   e=(pmf[i]-y[i])\n",
        "#   error.append(e)\n",
        "# plt.stem(error,'r')\n",
        "\n"
      ]
    },
    {
      "cell_type": "markdown",
      "source": [
        "(b) XY+YZ+XZ"
      ],
      "metadata": {
        "id": "lBGCTu-L2t8N"
      }
    },
    {
      "cell_type": "code",
      "source": [
        "# PMF of XY+YZ+XZ (Simulation)\n",
        "\n",
        "print(\"---PMF of XY+YZ+XZ---\")\n",
        "X=np.random.randint(1,3,1000)\n",
        "Y=np.random.randint(1,3,1000)\n",
        "Z=np.random.randint(1,3,1000)\n",
        "XYZ=[]\n",
        "for i in range(1000):\n",
        "  val=(X[i]*Y[i])+(Y[i]*Z[i])+(X[i]*Z[i])\n",
        "  XYZ.append(val)\n",
        "temp= sorted(set(XYZ))\n",
        "print(temp)\n",
        "pmf=[]\n",
        "for i in temp:\n",
        "  count=0\n",
        "  for j in XYZ:\n",
        "    if(i==j):\n",
        "      count+=1\n",
        "  pmf.append(count/len(XYZ))\n",
        "print(pmf)\n",
        "plt.stem(temp,pmf,label='Simulated pmf',markerfmt = 'ob')\n",
        "\n",
        "#Analytical implementation\n",
        "x=[3,5,8,12]\n",
        "y=[1/8,3/8,3/8,1/8]\n",
        "plt.stem(x,y,label='Analytical pmf', markerfmt = '^r')\n",
        "plt.title(\"PMF of XY+YZ+XZ\")\n",
        "plt.xlabel(\"XY+YZ+XZ\")\n",
        "plt.ylabel(\"PMF\")\n",
        "plt.legend();"
      ],
      "metadata": {
        "colab": {
          "base_uri": "https://localhost:8080/",
          "height": 402
        },
        "id": "KtU8f78J2tb1",
        "outputId": "1c48d8cc-58c5-442a-f10d-78e8e7937fc4"
      },
      "execution_count": null,
      "outputs": [
        {
          "output_type": "stream",
          "name": "stdout",
          "text": [
            "PMF of XY+YZ+XZ\n",
            "[3, 5, 8, 12]\n",
            "[0.114, 0.356, 0.401, 0.129]\n"
          ]
        },
        {
          "output_type": "stream",
          "name": "stderr",
          "text": [
            "/usr/local/lib/python3.7/dist-packages/ipykernel_launcher.py:21: UserWarning: In Matplotlib 3.3 individual lines on a stem plot will be added as a LineCollection instead of individual lines. This significantly improves the performance of a stem plot. To remove this warning and switch to the new behaviour, set the \"use_line_collection\" keyword argument to True.\n",
            "/usr/local/lib/python3.7/dist-packages/ipykernel_launcher.py:26: UserWarning: In Matplotlib 3.3 individual lines on a stem plot will be added as a LineCollection instead of individual lines. This significantly improves the performance of a stem plot. To remove this warning and switch to the new behaviour, set the \"use_line_collection\" keyword argument to True.\n"
          ]
        },
        {
          "output_type": "display_data",
          "data": {
            "text/plain": [
              "<Figure size 432x288 with 1 Axes>"
            ],
            "image/png": "[encoded data removed]"
          },
          "metadata": {
            "needs_background": "light"
          }
        }
      ]
    },
    {
      "cell_type": "markdown",
      "source": [
        "(c) ) X^2 + YZ"
      ],
      "metadata": {
        "id": "1K0YuAPqq81c"
      }
    },
    {
      "cell_type": "code",
      "source": [
        "# PMF of X^2+YZ (Simulation)\n",
        "\n",
        "print(\"---PMF of X^2+YZ---\")\n",
        "X=np.random.randint(1,3,1000)\n",
        "Y=np.random.randint(1,3,1000)\n",
        "Z=np.random.randint(1,3,1000)\n",
        "XYZ=[]\n",
        "for i in range(1000):\n",
        "  val=(X[i]*X[i])+(Y[i]*Z[i])\n",
        "  XYZ.append(val)\n",
        "temp= sorted(set(XYZ))\n",
        "print(temp)\n",
        "pmf=[]\n",
        "for i in temp:\n",
        "  count=0\n",
        "  for j in XYZ:\n",
        "    if(i==j):\n",
        "      count+=1\n",
        "  pmf.append(count/len(XYZ))\n",
        "print(pmf)\n",
        "plt.stem(temp,pmf,label='Simulated pmf',markerfmt = 'ob')\n",
        "\n",
        "# Analytical implementation\n",
        "x=[2,3,5,6,8]\n",
        "y=[1/8,2/8,2/8,2/8,1/8]\n",
        "plt.stem(x,y,label='Analytical pmf', markerfmt = '^r')\n",
        "plt.title(\"PMF of X^2+YZ\")\n",
        "plt.xlabel(\"X^2+YZ\")\n",
        "plt.ylabel(\"PMF\")\n",
        "plt.legend();"
      ],
      "metadata": {
        "colab": {
          "base_uri": "https://localhost:8080/",
          "height": 402
        },
        "id": "M1VPWzBh8JHy",
        "outputId": "c485f2a8-8333-4682-a125-abd9111f763d"
      },
      "execution_count": null,
      "outputs": [
        {
          "output_type": "stream",
          "name": "stdout",
          "text": [
            "PMF of X^2+YZ\n",
            "[2, 3, 5, 6, 8]\n",
            "[0.119, 0.261, 0.262, 0.234, 0.124]\n"
          ]
        },
        {
          "output_type": "stream",
          "name": "stderr",
          "text": [
            "/usr/local/lib/python3.7/dist-packages/ipykernel_launcher.py:21: UserWarning: In Matplotlib 3.3 individual lines on a stem plot will be added as a LineCollection instead of individual lines. This significantly improves the performance of a stem plot. To remove this warning and switch to the new behaviour, set the \"use_line_collection\" keyword argument to True.\n",
            "/usr/local/lib/python3.7/dist-packages/ipykernel_launcher.py:26: UserWarning: In Matplotlib 3.3 individual lines on a stem plot will be added as a LineCollection instead of individual lines. This significantly improves the performance of a stem plot. To remove this warning and switch to the new behaviour, set the \"use_line_collection\" keyword argument to True.\n"
          ]
        },
        {
          "output_type": "display_data",
          "data": {
            "text/plain": [
              "<Figure size 432x288 with 1 Axes>"
            ],
            "image/png": "[encoded data removed]"
          },
          "metadata": {
            "needs_background": "light"
          }
        }
      ]
    },
    {
      "cell_type": "markdown",
      "source": [
        "**Q.2.** Let X represent the lifetime, rounded up to an integer number of years, of\n",
        "a certain car battery. Suppose that the pmf of X is given by pX(k) = 0.2 if\n",
        "3 ≤ k ≤ 7 and pX(k) = 0 otherwise."
      ],
      "metadata": {
        "id": "_v2yaKOb9VI5"
      }
    },
    {
      "cell_type": "markdown",
      "source": [
        "(i) Find the probability, P{X > 3}, that a\n",
        "three year old battery is still working"
      ],
      "metadata": {
        "id": "W-4w1yzK9iZw"
      }
    },
    {
      "cell_type": "code",
      "source": [
        "X=np.random.randint(3,8,1000)\n",
        "count = 0\n",
        "for i in X:\n",
        "    if i > 3:\n",
        "        count += 1\n",
        "pmf = count/len(X)\n",
        "print(f'Probability (X>3) = {pmf}')"
      ],
      "metadata": {
        "colab": {
          "base_uri": "https://localhost:8080/"
        },
        "id": "ae6IvUxa9i1U",
        "outputId": "370852a3-18ff-4b0d-b84a-eb894f3a2e1f"
      },
      "execution_count": null,
      "outputs": [
        {
          "output_type": "stream",
          "name": "stdout",
          "text": [
            "Probability (X>3) = 0.813\n"
          ]
        }
      ]
    },
    {
      "cell_type": "markdown",
      "source": [
        "(ii) Given that the battery is still working\n",
        "after five years, what is the conditional probability that the battery will still be\n",
        "working three years later? (i.e. what is P(X > 8|X > 5)"
      ],
      "metadata": {
        "id": "P2jziOr4Sjw1"
      }
    },
    {
      "cell_type": "code",
      "source": [
        "condition=[]\n",
        "event=[]\n",
        "for i in X:\n",
        "  if i > 5 :\n",
        "    condition.append(i)\n",
        "for i in condition:\n",
        "  if i > 8:\n",
        "    event.append(i)\n",
        "res=len(event)/len(condition)\n",
        "print(\"Probability (X>8|X>5) =\", {res})"
      ],
      "metadata": {
        "colab": {
          "base_uri": "https://localhost:8080/"
        },
        "id": "UtNYcpTjSivh",
        "outputId": "e0575da2-b349-4b53-da58-f1e57207d1f3"
      },
      "execution_count": null,
      "outputs": [
        {
          "output_type": "stream",
          "name": "stdout",
          "text": [
            "Probability (X>8|X>5) = {0.0}\n"
          ]
        }
      ]
    },
    {
      "cell_type": "markdown",
      "source": [
        "**Q.3.** Let Y be a\n",
        "Poisson random variable with mean µ > 0 and let Z be a geometrically dis\u0002tributed random variable with parameter p with 0<p<1. Assume Y and Z\n",
        "are independent."
      ],
      "metadata": {
        "id": "4aiz8q7UU11M"
      }
    },
    {
      "cell_type": "markdown",
      "source": [
        "(a) Find P{Y < Z}. Express your answer as a simple function of µ and p."
      ],
      "metadata": {
        "id": "3kqk2u2LVR_m"
      }
    },
    {
      "cell_type": "code",
      "source": [
        "mean = 3 # mean for poission distribution (mean>0)\n",
        "p = 0.5 # 0 < p < 1 for geometric distribution\n",
        "\n",
        "Y = np.random.poisson(lam = mean, size=1000)\n",
        "Z = np.random.geometric(p =p,size=1000)\n",
        "event=list(Y<Z)\n",
        "res=event.count(True)/1000\n",
        "print(\"P(Y<Z)=\",res)\n"
      ],
      "metadata": {
        "colab": {
          "base_uri": "https://localhost:8080/"
        },
        "id": "DcH_WF9yVT5_",
        "outputId": "6e244e4c-a78b-4982-af99-c41336be74c0"
      },
      "execution_count": null,
      "outputs": [
        {
          "output_type": "stream",
          "name": "stdout",
          "text": [
            "P(Y<Z)= 0.225\n"
          ]
        }
      ]
    },
    {
      "cell_type": "markdown",
      "source": [
        "(b) Find P(Y < Z|Z = i) for i ≥ 1. (Hint: This is a conditional probability for\n",
        "events.)\n"
      ],
      "metadata": {
        "id": "KC3hMIkUYHFV"
      }
    },
    {
      "cell_type": "code",
      "source": [
        "i=2\n",
        "count=0\n",
        "condition=[]\n",
        "event=[]\n",
        "for k in Z:\n",
        "  if k==i:\n",
        "    condition.append(k)\n",
        "    count=count+1\n",
        "print(\"n(Z=i)=\",count)\n",
        "for k in Y:\n",
        "  if k<i:\n",
        "    event.append(k)\n",
        "print(\"n(Y<Z)=\",len(event))\n",
        "print(\"P(Y<Z|Z=i)=\", len(event)/count)"
      ],
      "metadata": {
        "colab": {
          "base_uri": "https://localhost:8080/"
        },
        "id": "-M-1WZNzYJId",
        "outputId": "a6e5ae3f-94ad-48c0-aa84-223209206a7e"
      },
      "execution_count": null,
      "outputs": [
        {
          "output_type": "stream",
          "name": "stdout",
          "text": [
            "n(Z=i)= 252\n",
            "n(Y<Z)= 198\n",
            "P(Y<Z|Z=i)= 0.7857142857142857\n"
          ]
        }
      ]
    },
    {
      "cell_type": "markdown",
      "source": [
        "(c) Find P(Y = i|Y < Z) for i ≥ 0. Express your answer as a simple function of\n",
        "p, µ and i."
      ],
      "metadata": {
        "id": "TQ7ENTlRayHv"
      }
    },
    {
      "cell_type": "code",
      "source": [
        "i=1\n",
        "count_condition=0\n",
        "count_event=0\n",
        "event=[]\n",
        "for k in range(1000):\n",
        "  if Y[k]<Z[k]:\n",
        "    count_condition=count_condition+1\n",
        "print(\"n(Y<Z)=\",count_condition)\n",
        "for k in range(1000):\n",
        "  if Y[k]==i:\n",
        "    count_event=count_event+1\n",
        "print(\"n(Y=1)=\",count_event)\n",
        "print(\"P(Y=1|Y<Z)=\", count_event/count_condition)"
      ],
      "metadata": {
        "colab": {
          "base_uri": "https://localhost:8080/"
        },
        "id": "INLiKh4pa6Nu",
        "outputId": "2f00e34d-5915-4779-8d3f-7c1c56c03243"
      },
      "execution_count": null,
      "outputs": [
        {
          "output_type": "stream",
          "name": "stdout",
          "text": [
            "n(Y<Z)= 225\n",
            "n(Y=1)= 158\n",
            "P(Y=1|Y<Z)= 0.7022222222222222\n"
          ]
        }
      ]
    },
    {
      "cell_type": "markdown",
      "source": [
        "(d)  Find E[Y |Y < Z], which is the expected value computed according to the\n",
        "conditional distribution found in above part."
      ],
      "metadata": {
        "id": "5anr7u1Lcnsn"
      }
    },
    {
      "cell_type": "code",
      "source": [
        "event=[]\n",
        "for k in range(1000):\n",
        "  if(Y[k]<Z[k]):\n",
        "    event.append(Y[k])\n",
        "res=np.mean(event)\n",
        "print(\"E(Y|Y<Z)=\",res)"
      ],
      "metadata": {
        "colab": {
          "base_uri": "https://localhost:8080/"
        },
        "id": "XqO8PC5Icumg",
        "outputId": "b64a26fb-17fd-4da0-b9d2-20ecccdecf01"
      },
      "execution_count": null,
      "outputs": [
        {
          "output_type": "stream",
          "name": "stdout",
          "text": [
            "E(Y|Y<Z)= 1.4666666666666666\n"
          ]
        }
      ]
    },
    {
      "cell_type": "markdown",
      "source": [
        "**Q.6.** Let X and Y be independent, exponentially distributed random variables with parameter λ, such that λ > 0. Find the pdf of\n",
        "Z = |X − Y |."
      ],
      "metadata": {
        "id": "sTLn0vVGeHsl"
      }
    },
    {
      "cell_type": "code",
      "source": [
        "#5 different values of lambda\n",
        "mean=[0.01,0.05,0.10,0.15,0.20]\n",
        "Z=[]\n",
        "for i in mean:\n",
        "  #generating exponential distribution for different mean\n",
        "  X=np.random.exponential(i,10000)\n",
        "  Y=np.random.exponential(i,10000)\n",
        "  Z=np.abs(X-Y)\n",
        "  fig, ax = plt.subplots(figsize=(6, 3))\n",
        "  plt.hist(Z,bins=100)\n",
        "  plt.title(\"PDF of Z with mean= \"+str(i))\n",
        "  plt.xlabel(\"z\")\n",
        "  plt.ylabel(\"fZ(z)\")\n",
        "\n",
        "# #Analytical\n",
        "# Xrv=[]\n",
        "# Yrv=[]\n",
        "# Zrv=[]\n",
        "# for i in mean:\n",
        "#   for j in range(10000):\n",
        "#     x=i*math.exp(-i*j)\n",
        "#     y=i*math.exp(-i*j)\n",
        "#     Xrv.append(x)\n",
        "#     Yrv.append(y)\n",
        "#   for k in range(10000):\n",
        "#     res=np.abs(Xrv[k]-Yrv[k])\n",
        "#     Zrv.append(res)\n",
        "#   plt.plot(Zrv,'r')"
      ],
      "metadata": {
        "colab": {
          "base_uri": "https://localhost:8080/",
          "height": 1000
        },
        "id": "7LxKrRiqeXt4",
        "outputId": "6fb01f7b-21b7-433a-dec9-25b5b237f5cb"
      },
      "execution_count": null,
      "outputs": [
        {
          "output_type": "display_data",
          "data": {
            "text/plain": [
              "<Figure size 432x216 with 1 Axes>"
            ],
            "image/png": "[encoded data removed]"
          },
          "metadata": {
            "needs_background": "light"
          }
        },
        {
          "output_type": "display_data",
          "data": {
            "text/plain": [
              "<Figure size 432x216 with 1 Axes>"
            ],
            "image/png": "[encoded data removed]"
          },
          "metadata": {
            "needs_background": "light"
          }
        },
        {
          "output_type": "display_data",
          "data": {
            "text/plain": [
              "<Figure size 432x216 with 1 Axes>"
            ],
            "image/png": "[encoded data removed]"
          },
          "metadata": {
            "needs_background": "light"
          }
        },
        {
          "output_type": "display_data",
          "data": {
            "text/plain": [
              "<Figure size 432x216 with 1 Axes>"
            ],
            "image/png": "[encoded data removed]"
          },
          "metadata": {
            "needs_background": "light"
          }
        },
        {
          "output_type": "display_data",
          "data": {
            "text/plain": [
              "<Figure size 432x216 with 1 Axes>"
            ],
            "image/png": "[encoded data removed]"
          },
          "metadata": {
            "needs_background": "light"
          }
        }
      ]
    }
  ]
}