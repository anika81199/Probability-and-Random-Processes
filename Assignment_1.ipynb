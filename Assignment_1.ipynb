{
  "nbformat": 4,
  "nbformat_minor": 0,
  "metadata": {
    "colab": {
      "provenance": []
    },
    "kernelspec": {
      "name": "python3",
      "display_name": "Python 3"
    },
    "language_info": {
      "name": "python"
    }
  },
  "cells": [
    {
      "cell_type": "code",
      "execution_count": null,
      "metadata": {
        "colab": {
          "base_uri": "https://localhost:8080/"
        },
        "id": "iVI-mw6f2DAU",
        "outputId": "68d73f8d-f711-4268-a7c3-0f27d3db9e9b"
      },
      "outputs": [
        {
          "output_type": "stream",
          "name": "stdout",
          "text": [
            "7.4e-09\n",
            "1.48e-08\n",
            "2.59e-07\n",
            "2.96e-08\n",
            "0.028571428571428515\n",
            "0.05714285714285703\n"
          ]
        }
      ],
      "source": [
        "import random\n",
        "\n",
        "\n",
        "def probability(binary=[]):\n",
        "    one=1\n",
        "    zero=1\n",
        "    for i in range(1,8):\n",
        "        if binary[-i]==1:\n",
        "            one *= (1-(0.5)**i)\n",
        "        else:\n",
        "            zero *= ((0.5)**i)\n",
        "\n",
        "    result = one * zero\n",
        "    return(round(result,10))\n",
        "\n",
        "\n",
        "#E1\n",
        "E1 = 0\n",
        "number1=\"10101010\"\n",
        "number2=\"01010101\"\n",
        "E1 = probability(number1)+probability(number2)\n",
        "print(E1)\n",
        "\n",
        "#E2\n",
        "E2 = 0\n",
        "number3=\"01100110\"\n",
        "number3_right_shift1=\"00110011\"\n",
        "number3_right_shift2=\"10011001\"\n",
        "number3_right_shift3=\"11001100\"\n",
        "E2 = probability(number3)+probability(number3_right_shift1)+probability(number3_right_shift2)+probability(number3_right_shift3)\n",
        "print(round(E2,10))\n",
        "\n",
        "#E3\n",
        "\n",
        "E3=0\n",
        "for i in range(256):\n",
        "    x='{0:08b}'.format(i)\n",
        "    # print(x)\n",
        "    y=tuple(x)\n",
        "    # print(y)\n",
        "    sum = 0\n",
        "    for j in range(len(y)):\n",
        "        sum += int(y[j])\n",
        "    if sum == 4:\n",
        "        E3 += probability(x)\n",
        "print(round(E3,10))\n",
        "\n",
        "#E4\n",
        "E4 = 0\n",
        "x = ['11111100','01111110','00111111','10111111','11111101','01111111','11111110','11111111']\n",
        "for i in range(len(x)):\n",
        "    E4 += probability(x[i])\n",
        "print(E4)\n",
        "\n",
        "\n",
        "# P(E1/E3) = P(E1)/P(E3); since P(E1 n E3) = P(E1)\n",
        "x=0\n",
        "x = E1/E3\n",
        "print(x)\n",
        "\n",
        "# P(E2/E3) = P(E2)/P(E3); since P(E2 n E3) = P(E2)\n",
        "x=0\n",
        "x = E2/E3\n",
        "print(x)"
      ]
    }
  ]
}